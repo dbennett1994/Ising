{
 "cells": [
  {
   "cell_type": "markdown",
   "metadata": {},
   "source": [
    "#Implementing Metropolis on a 2D traingular lattice "
   ]
  },
  {
   "cell_type": "code",
   "execution_count": 1,
   "metadata": {
    "collapsed": false
   },
   "outputs": [],
   "source": [
    "from __future__ import division #necessary to perform division of ints effectively cast into floats before division\n",
    "\n",
    "import numpy as np\n",
    "import math\n",
    "import numpy.random as rand\n",
    "import IsingClass"
   ]
  },
  {
   "cell_type": "code",
   "execution_count": 2,
   "metadata": {
    "collapsed": false
   },
   "outputs": [],
   "source": [
    "N = 16\n",
    "J = 1.o\n",
    "model = IsingClass.Ising() #constructor"
   ]
  },
  {
   "cell_type": "markdown",
   "metadata": {},
   "source": [
    "The main idea is to use the square grid and choose the points accordingly to recover the nearest neighbours (6) on a triangular lattice. Thus, the change in energy differs in calculation from the square lattice in considering the nerest neighbours, allowing still of periodic BC and a unit cell containing the 6 nearest neighbours.\n",
    "\n",
    "References:\n",
    "\n",
    "[1] https://github.com/RaewynD/IsingModel/blob/master/HexagonalLattice.py\n",
    "\n",
    "[2] http://introcs.cs.princeton.edu/java/lectures/98ising.pdf\n",
    "\n",
    "[3] http://stackoverflow.com/questions/11373122/best-way-to-store-a-triangular-hexagonal-grid-in-python"
   ]
  },
  {
   "cell_type": "markdown",
   "metadata": {},
   "source": [
    "##Calculating the ground state energy for the triangular lattice (6 nearest neighbours)"
   ]
  },
  {
   "cell_type": "markdown",
   "metadata": {},
   "source": [
    "We must consider the traingular lattice. Each spin site has 6 nearest neighbours. Topologically, for this graph with a well-defined unit cell with 6 sites, the contribution is given, per each spin site, by the semi-sum of all six edges, where we divide by two in order to take into account the two possible spins. \n",
    "\n",
    "NOTE: THIS WORKS AS WE ARE CONSIDER (ANTI-)COLLINEAR SPIN PROJECTIONS."
   ]
  },
  {
   "cell_type": "code",
   "execution_count": 7,
   "metadata": {
    "collapsed": false
   },
   "outputs": [
    {
     "name": "stdout",
     "output_type": "stream",
     "text": [
      "Ground state energy = -3NJ, for N the total number of spin sites\n"
     ]
    }
   ],
   "source": [
    "#Triangular lattice ground state\n",
    "lattice = np.ones((N,N), dtype=np.int) #int, save memory - ground state is given by all spins collinear.\n",
    "        #given the symmetry, simply choose all spins up\n",
    "\n",
    "lattice_nb_sum = []\n",
    "#def delta_energy(array,i,j):\n",
    "for i in range(N):\n",
    "    for j in range(N):\n",
    "        nb_sum = lattice[i][j]*(lattice[i][(j+1) %N]+lattice[i][(j-1) %N]+lattice[(i+1)%N][j]+\n",
    "                          lattice[(i-1)%N][j]+lattice[(i-1)%N][(j-1)%N]+lattice[(i+1)%N][(j+1)%N])\n",
    "#return deltaE\n",
    "        lattice_nb_sum.append(nb_sum)\n",
    "    \n",
    "ground_energy = (np.sum(lattice_nb_sum)*(-J))/(2.0*N*N) #spins can be up or down; energy per site\n",
    "\n",
    "E_ground = np.int(ground_energy)\n",
    "print \"Ground state energy = %dNJ, for N the total number of spin sites\"%E_ground"
   ]
  },
  {
   "cell_type": "markdown",
   "metadata": {
    "collapsed": true
   },
   "source": [
    "This is consistent with the theory. \n",
    "\n",
    "Reference:\n",
    "\n",
    "[4] http://physics.stackexchange.com/questions/133005/how-to-calculate-the-ground-state-energy-for-the-ising-model"
   ]
  },
  {
   "cell_type": "markdown",
   "metadata": {
    "collapsed": true
   },
   "source": [
    "#The 2D XY Model on a triangular lattice\n",
    "\n",
    "We are asked to implement the triangular lattice, and use the metropolis algorithm on non-collinear spins. To my understanding, this is equivalent to the XY model. We consider in the translationally invariant interaction the $cos(\\theta_i - \\theta_J)$ factor, as a dot product must be carried out between spin vectors of fixed magnitude, different orientation, for $\\theta$ btween $-\\pi$ and $+\\pi$."
   ]
  },
  {
   "cell_type": "code",
   "execution_count": 32,
   "metadata": {
    "collapsed": false
   },
   "outputs": [
    {
     "name": "stdout",
     "output_type": "stream",
     "text": [
      "[[ -1.66086413e+00   6.94466865e-01   3.18025593e-01  -4.95958853e-02\n",
      "    1.21404502e+00   1.04391813e+00   5.17218125e-01   3.05642619e+00\n",
      "   -6.72412102e-01  -6.18471637e-01  -2.55632031e+00   2.31771496e+00\n",
      "    2.79227798e+00   1.42495804e+00  -1.77240851e+00   1.71774718e+00]\n",
      " [  1.02447056e+00  -3.89238415e-01  -1.79967273e+00   1.49073509e+00\n",
      "   -2.57637160e+00  -2.61812165e+00  -1.68717036e+00  -1.25374084e+00\n",
      "   -4.18412180e-01   3.72154489e-01   2.00260537e+00  -7.36792671e-01\n",
      "    2.56793951e+00  -8.73020256e-01   2.78187788e+00  -3.32193843e-01]\n",
      " [  1.17754174e+00   1.35742520e+00  -6.96285806e-01  -2.98106169e+00\n",
      "   -2.59346033e+00   2.45955325e+00   2.52785844e+00   1.21254149e+00\n",
      "   -1.06565751e+00  -5.80968964e-01   1.31910203e+00  -1.03200493e-01\n",
      "    1.58947966e+00   1.50530816e+00   2.29963299e+00  -1.33064230e+00]\n",
      " [ -1.86238484e+00   2.91553827e+00   2.72772231e+00   1.13988735e+00\n",
      "   -1.44478563e+00  -2.51479450e+00  -1.81037219e+00  -8.99032984e-01\n",
      "   -3.95028960e-01   4.40087647e-01   1.00668929e+00   8.25766610e-01\n",
      "   -1.82921935e+00  -2.59584455e+00  -1.56014033e+00  -2.15692219e+00]\n",
      " [  1.85594708e+00   9.52010162e-01  -1.96002355e+00   2.98024307e+00\n",
      "    4.46261529e-01  -2.97665888e+00  -2.47962454e+00  -2.87988555e+00\n",
      "   -1.74848591e+00  -2.55499319e+00  -7.72779843e-01  -1.01480903e+00\n",
      "   -5.70409105e-01  -6.51575899e-01  -5.68658815e-01   2.53507934e+00]\n",
      " [ -1.05398696e+00  -2.27247592e+00  -3.05771727e+00   8.50316644e-02\n",
      "    2.09608768e+00   2.26425875e+00  -6.20941307e-01   2.12697341e+00\n",
      "   -2.84083282e+00  -2.42313253e+00   2.94699721e+00  -2.62251738e+00\n",
      "   -1.33782146e+00   2.21006820e+00   2.42832625e+00  -2.79997778e+00]\n",
      " [ -2.55007271e+00  -1.08180195e+00   5.21393768e-01   2.36528206e+00\n",
      "    2.69094667e+00   7.91336781e-02   1.92829117e+00  -1.46534247e+00\n",
      "   -1.17759023e+00  -2.48893801e+00  -2.82487803e+00   4.98284489e-01\n",
      "   -1.65465713e+00   2.77682696e+00   1.97567903e+00  -2.77206025e+00]\n",
      " [  1.19929947e+00   1.88180888e+00  -1.11103553e+00   1.70938887e+00\n",
      "    1.10655182e+00  -2.12042921e+00   2.31003271e+00   8.96614000e-01\n",
      "   -2.10551918e+00  -2.72559491e+00   6.69153211e-01  -1.61953180e+00\n",
      "   -2.84853126e+00   1.38269427e+00   1.02936279e+00  -1.12226880e+00]\n",
      " [ -2.81037281e+00   2.32269550e+00  -2.89730589e+00  -7.32665179e-01\n",
      "   -3.04430833e+00  -1.87807164e+00  -1.78974392e+00  -2.57797461e+00\n",
      "    1.82613352e+00  -1.87449776e+00   2.04481042e+00  -1.34904912e+00\n",
      "   -9.64281756e-01   1.95834021e+00  -1.13464615e+00   6.58586991e-01]\n",
      " [ -4.51856864e-02  -1.62805900e+00   6.45824481e-01  -3.00647229e+00\n",
      "    2.23387474e+00   2.97271762e-01  -2.52182544e+00  -3.09008315e+00\n",
      "   -2.49109702e+00  -2.62841649e+00  -3.06604295e+00  -1.05266429e+00\n",
      "    2.33096584e+00   8.27108368e-01  -1.37454334e+00   1.55699054e+00]\n",
      " [ -1.10979473e+00  -2.87801909e+00  -1.96543528e+00   2.51243292e+00\n",
      "   -2.98063089e+00   2.81739342e+00   9.00096364e-02   6.35219789e-01\n",
      "    2.10881100e+00  -1.41481342e+00  -1.43606809e-01  -1.33633541e+00\n",
      "   -4.47009353e-01   1.04236964e+00  -1.45172387e+00  -1.74069843e+00]\n",
      " [ -9.20967331e-01   5.37132596e-01  -1.46712104e+00  -1.68265160e+00\n",
      "    2.29692003e+00   2.11078962e+00  -1.30306159e+00   1.38777396e-01\n",
      "    2.58375131e+00   2.78493714e-01  -7.72128150e-01   7.47705787e-01\n",
      "    7.93714161e-01   1.22118346e+00  -1.28741724e+00  -2.71831415e+00]\n",
      " [ -1.85968880e+00  -1.82553770e+00  -2.64026536e+00   1.63195960e+00\n",
      "    1.02089900e+00  -1.33806994e+00  -1.82667971e+00  -4.36172468e-01\n",
      "   -9.15602025e-01   2.84247783e+00  -2.48449571e+00  -1.18735963e-01\n",
      "   -2.37377607e-01   5.90399908e-01   3.07199816e+00  -2.51839330e+00]\n",
      " [  4.78769786e-01   1.46844062e+00   1.00803989e+00  -8.76605015e-01\n",
      "   -1.12674334e+00  -2.16277605e-01  -1.23186821e+00   2.49574590e+00\n",
      "    3.06860213e+00   8.28647563e-01  -3.13905706e+00   1.16359452e-01\n",
      "    1.79395909e-01   1.06442520e+00   1.62496407e+00  -2.74722654e+00]\n",
      " [  3.60080085e-01  -1.89104710e+00   1.73572509e+00  -6.20539466e-01\n",
      "    2.58165233e+00  -1.69649590e+00  -2.47953959e+00  -1.70346959e+00\n",
      "   -9.24449839e-02   2.11497308e+00   2.10109917e+00   9.09656152e-01\n",
      "   -2.40431987e+00  -2.23318435e+00   2.09371291e+00  -1.44477728e+00]\n",
      " [  2.39111416e+00   9.08793878e-01   9.10594922e-01  -6.24031278e-01\n",
      "    1.22956460e+00  -2.04012750e+00   2.49661257e+00   2.71093106e+00\n",
      "   -2.65401550e+00   8.57877852e-01   2.16563908e+00  -1.75317816e+00\n",
      "    2.94365469e-01   3.13988022e+00   5.87811449e-01   4.38592745e-04]]\n"
     ]
    }
   ],
   "source": [
    "#at the end of the day, we are interested in the cosine of the angle between spins with fixed magnitude. \n",
    "#thus, the grid to take into account is the following\n",
    "lattice = np.zeros((N,N), dtype = float) \n",
    "for i in range(N):\n",
    "    for j in range(N):\n",
    "        lattice[i][j] = math.pi*(2.0*rand.rand() - 1.0) #angle between -pi and +pi\n"
   ]
  },
  {
   "cell_type": "code",
   "execution_count": 23,
   "metadata": {
    "collapsed": false
   },
   "outputs": [
    {
     "name": "stdout",
     "output_type": "stream",
     "text": [
      "0.564917214356\n"
     ]
    }
   ],
   "source": [
    "print rand.rand()"
   ]
  },
  {
   "cell_type": "code",
   "execution_count": null,
   "metadata": {
    "collapsed": true
   },
   "outputs": [],
   "source": []
  }
 ],
 "metadata": {
  "kernelspec": {
   "display_name": "Python 2",
   "language": "python",
   "name": "python2"
  },
  "language_info": {
   "codemirror_mode": {
    "name": "ipython",
    "version": 2
   },
   "file_extension": ".py",
   "mimetype": "text/x-python",
   "name": "python",
   "nbconvert_exporter": "python",
   "pygments_lexer": "ipython2",
   "version": "2.7.10"
  }
 },
 "nbformat": 4,
 "nbformat_minor": 0
}
