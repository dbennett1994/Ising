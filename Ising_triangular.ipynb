{
 "cells": [
  {
   "cell_type": "markdown",
   "metadata": {},
   "source": [
    "#Implementing Metropolis on a 2D traingular lattice "
   ]
  },
  {
   "cell_type": "code",
   "execution_count": 2,
   "metadata": {
    "collapsed": false
   },
   "outputs": [],
   "source": [
    "from __future__ import division #necessary to perform division of ints effectively cast into floats before division\n",
    "\n",
    "import numpy as np\n",
    "import math\n",
    "import numpy.random as rand\n",
    "import IsingClass"
   ]
  },
  {
   "cell_type": "code",
   "execution_count": 3,
   "metadata": {
    "collapsed": false
   },
   "outputs": [],
   "source": [
    "N = 16\n",
    "J = 1.0\n",
    "model = IsingClass.Ising() #constructor"
   ]
  },
  {
   "cell_type": "markdown",
   "metadata": {},
   "source": [
    "The main idea is to use the square grid and choose the points accordingly to recover the nearest neighbours (6) on a triangular lattice. Thus, the change in energy differs in calculation from the square lattice in considering the nerest neighbours, allowing still of periodic BC and a unit cell containing the 6 nearest neighbours.\n",
    "\n",
    "References:\n",
    "\n",
    "[1] https://github.com/RaewynD/IsingModel/blob/master/HexagonalLattice.py\n",
    "\n",
    "[2] http://introcs.cs.princeton.edu/java/lectures/98ising.pdf\n",
    "\n",
    "[3] http://stackoverflow.com/questions/11373122/best-way-to-store-a-triangular-hexagonal-grid-in-python"
   ]
  },
  {
   "cell_type": "markdown",
   "metadata": {},
   "source": [
    "##Calculating the ground state energy for the triangular lattice (6 nearest neighbours)"
   ]
  },
  {
   "cell_type": "markdown",
   "metadata": {},
   "source": [
    "We must consider the traingular lattice. Each spin site has 6 nearest neighbours. Topologically, for this graph with a well-defined unit cell with 6 sites, the contribution is given, per each spin site, by the semi-sum of all six edges, where we divide by two in order to take into account the two possible spins. \n",
    "\n",
    "NOTE: THIS WORKS AS WE ARE CONSIDER (ANTI-)COLLINEAR SPIN PROJECTIONS."
   ]
  },
  {
   "cell_type": "code",
   "execution_count": 4,
   "metadata": {
    "collapsed": false
   },
   "outputs": [
    {
     "name": "stdout",
     "output_type": "stream",
     "text": [
      "Ground state energy = -3NJ, for N the total number of spin sites\n"
     ]
    }
   ],
   "source": [
    "#Triangular lattice ground state\n",
    "lattice = np.ones((N,N), dtype=np.int) #int, save memory - ground state is given by all spins collinear.\n",
    "        #given the symmetry, simply choose all spins up\n",
    "\n",
    "lattice_nb_sum = []\n",
    "#def delta_energy(array,i,j):\n",
    "for i in range(N):\n",
    "    for j in range(N):\n",
    "        nb_sum = lattice[i][j]*(lattice[i][(j+1) %N]+lattice[i][(j-1) %N]+lattice[(i+1)%N][j]+\n",
    "                          lattice[(i-1)%N][j]+lattice[(i-1)%N][(j-1)%N]+lattice[(i+1)%N][(j+1)%N])\n",
    "#return deltaE\n",
    "        lattice_nb_sum.append(nb_sum)\n",
    "    \n",
    "ground_energy = (np.sum(lattice_nb_sum)*(-J))/(2.0*N*N) #spins can be up or down; energy per site\n",
    "\n",
    "E_ground = np.int(ground_energy)\n",
    "print \"Ground state energy = %dNJ, for N the total number of spin sites\"%E_ground"
   ]
  },
  {
   "cell_type": "markdown",
   "metadata": {
    "collapsed": true
   },
   "source": [
    "This is consistent with the theory. \n",
    "\n",
    "Reference:\n",
    "\n",
    "[4] http://physics.stackexchange.com/questions/133005/how-to-calculate-the-ground-state-energy-for-the-ising-model"
   ]
  },
  {
   "cell_type": "markdown",
   "metadata": {
    "collapsed": true
   },
   "source": [
    "#The 2D XY Model on a triangular lattice\n",
    "\n",
    "We are asked to implement the triangular lattice, and use the metropolis algorithm on non-collinear spins. To my understanding, this is equivalent to the XY model. We consider in the translationally invariant interaction the $cos(\\theta_i - \\theta_J)$ factor, as a dot product must be carried out between spin vectors of fixed magnitude, different orientation, for $\\theta$ btween $-\\pi$ and $+\\pi$."
   ]
  },
  {
   "cell_type": "code",
   "execution_count": 5,
   "metadata": {
    "collapsed": false
   },
   "outputs": [],
   "source": [
    "#at the end of the day, we are interested in the cosine of the angle between spins with fixed magnitude. \n",
    "#thus, the grid to take into account is the following\n",
    "lattice = np.zeros((N,N), dtype = float) \n",
    "for i in range(N):\n",
    "    for j in range(N):\n",
    "        lattice[i][j] = math.pi*(2.0*rand.rand() - 1.0) #angle between -pi and +pi\n"
   ]
  },
  {
   "cell_type": "code",
   "execution_count": null,
   "metadata": {
    "collapsed": true
   },
   "outputs": [],
   "source": []
  }
 ],
 "metadata": {
  "kernelspec": {
   "display_name": "Python 2",
   "language": "python",
   "name": "python2"
  },
  "language_info": {
   "codemirror_mode": {
    "name": "ipython",
    "version": 2
   },
   "file_extension": ".py",
   "mimetype": "text/x-python",
   "name": "python",
   "nbconvert_exporter": "python",
   "pygments_lexer": "ipython2",
   "version": "2.7.10"
  }
 },
 "nbformat": 4,
 "nbformat_minor": 0
}
