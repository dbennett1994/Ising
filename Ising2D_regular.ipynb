{
 "cells": [
  {
   "cell_type": "markdown",
   "metadata": {},
   "source": [
    "# The 2D Ising Model \n"
   ]
  },
  {
   "cell_type": "markdown",
   "metadata": {},
   "source": [
    "This is the IPython notebook compiled by me, Blaise Delaney (Junior Sophister Theoretical Physics, ID: 12313570), to tackle the tasks set by Dr. Thomas Archer for the course PY3C01, Trinity College, University of Dublin."
   ]
  },
  {
   "cell_type": "markdown",
   "metadata": {},
   "source": [
    "Firstly, we need to create a code cell to enable all the relevant imports. This shall be updated progressively to tacl the different sections of the problem set."
   ]
  },
  {
   "cell_type": "code",
   "execution_count": 1,
   "metadata": {
    "collapsed": false
   },
   "outputs": [],
   "source": [
    "from __future__ import division #necessary to perform division of ints effectively cast into floats before division\n",
    "\n",
    "import numpy as np\n",
    "import matplotlib.pyplot as plt\n",
    "import numpy.random as rand\n",
    "\n",
    "#ipython, plot in notebook\n",
    "%matplotlib inline "
   ]
  },
  {
   "cell_type": "markdown",
   "metadata": {},
   "source": [
    "Now, onto the random spin configuration. This can be up or down, so we shall select a grid with the following conditions: \n",
    "\n",
    "- spin up $\\uparrow$ $=1$\n",
    "- spin down $\\downarrow$ $=-1$\n",
    "\n",
    "\n"
   ]
  },
  {
   "cell_type": "markdown",
   "metadata": {
    "collapsed": true
   },
   "source": [
    "It is probably a good idea to take a object-oriented approach. Define a class <span style=\"color: crimson\"> Ising() </span>."
   ]
  },
  {
   "cell_type": "code",
   "execution_count": 11,
   "metadata": {
    "collapsed": true
   },
   "outputs": [],
   "source": [
    "#Global parameters\n",
    "\n",
    "N = 16 #grid dimensions\n",
    "J = 1.0 #coupling in the hamiltonian"
   ]
  },
  {
   "cell_type": "markdown",
   "metadata": {},
   "source": [
    "The Hamiltonian is \n",
    "\n",
    "$$H = -J  \\sum_{<i,j>}  S_i \\cdot S_j - h \\sum_i S_i$$\n",
    "\n",
    "We want to investihate the behaviour of a <span style=\"color: crimson\"> ferromagnet </span>. That is, for $J > 0$, we expect an orderly spin lattice arrangement, disrupted for temperatures equal or greater than $T_c$, the Curie temperature. In this regime, we expect paramagnetism."
   ]
  },
  {
   "cell_type": "markdown",
   "metadata": {},
   "source": [
    "Energy computations: the energy (Hamiltonian, isolated system) at of a spin site $(h = 0)$ is given by eq. (1)\n",
    "\n",
    "$$ H_{i,j} = - J S_{i,j} \\cdot (\\sum_{nn} S)$$    \n",
    "\n",
    "the Hamiltonian associated with the spin-flipped state (single spin flip dynamics are assumed to allow for a transition from a state in to another) is simple eq. (2)\n",
    "\n",
    "$$H_{i,j} =  J S_{i,j} \\cdot (\\sum_{nn} S) $$\n",
    "\n",
    "Thus, given that $\\Delta E = (2) - (1)$\n",
    "\n",
    "$$\\Rightarrow \\Delta E = 2 J S_{i,j}\\cdot(\\sum_{nn} S)$$\n",
    "\n",
    "where is $\\Delta E < 0$, flipping the spin lowers the energy of the system. Metropolis-Hastings can be then applied.\n"
   ]
  },
  {
   "cell_type": "code",
   "execution_count": 2,
   "metadata": {
    "collapsed": false
   },
   "outputs": [],
   "source": [
    "#2d Ising model basic class\n",
    "class Ising():\n",
    "    \n",
    "#NOTE: decouple the N's. Nx and Ny to be specified explicitly to allow for application to 1D by setting Ny=1 or Nx=1\n",
    "\n",
    "    def spin_config(self,Nx,Ny):\n",
    "        lattice = rand.choice([1,-1],[Nx,Ny]) \n",
    "        return lattice\n",
    "    \n",
    "    #plot the spin configuration in the lattice \n",
    "    def lattice_plt(self):\n",
    "        plt.matshow(lattice, cmap=plt.cm.gray)\n",
    "        #LaTeX\n",
    "        plt.rc('text', usetex=True)\n",
    "        plt.rc('font', family='serif')\n",
    "\n",
    "        plt.title(\"Spin configuration in the lattice\")\n",
    "        plt.axis('off')\n",
    "        plt.show()\n",
    "    \n",
    "    def nb_sum(self,lattice,i,j,Nx,Ny):\n",
    "        return lattice[(i+1) % Nx][j] + lattice[(i-1) % Nx][j] + lattice[i][(j+1) % Ny] +  lattice[i][(j-1) % Ny]\n",
    "    \n",
    "    #delta_energy with periodic BC imposed using the modulo operator, per spin site\n",
    "    def dEnergy(self, lattice,i,j,Nx,Ny): \n",
    "        nbs = self.nb_sum(lattice, i, j,Nx,Ny)\n",
    "        return 2*J*lattice[i][j]*nbs\n",
    "    \n",
    "    #metropolis with periodic BC\n",
    "    def metropolis(self, lattice, kT,Nx,Ny):\n",
    "        for i in range(Nx):\n",
    "            for j in range(Ny):\n",
    "                delta_E = self.dEnergy(lattice,i ,j,Nx,Ny)\n",
    "                site = lattice[i][j]\n",
    "                if delta_E<0:\n",
    "                    site *= -1 #energy is lowered, accept\n",
    "                elif np.exp(-delta_E/kT) > rand.rand(): #COMMMENT ON RAND(); uniform distribution in [0,1)\n",
    "                    site *= -1 #accept according to Boltzman dist.\n",
    "                lattice[i][j] = site\n",
    "        return lattice\n",
    "    \n",
    "    #energy per site\n",
    "    def energy(self, lattice,Nx,Ny):\n",
    "        erg = 0\n",
    "        for i in range(Nx):\n",
    "            for j in range(Ny):\n",
    "                Snb = self.nb_sum(lattice,i,j,Nx,Ny)\n",
    "                erg += -J*lattice[i][j]*Snb\n",
    "        norm_energy = erg/(2*(Nx*Ny)) #divide by twice number of spins to avoid overcounting\n",
    "        return norm_energy\n",
    "    \n",
    "    #energy squared per site                       \n",
    "    def energy2(self, lattice,Nx,Ny):\n",
    "        erg2 = 0\n",
    "        for i in range(Nx):\n",
    "            for j in range(Ny):\n",
    "                #sum of neighbouring spins\n",
    "                sum_nb2 = self.nb_sum(lattice,i,j,Nx,Ny)\n",
    "                #energy per site (not normalised)\n",
    "                erg2 += (-J*lattice[i][j]*sum_nb2)**2\n",
    "        norm_energy2 = erg2/(4*Nx*Ny) \n",
    "        return norm_energy2\n",
    "    \n",
    "    def mag_per_spin(self,lattice,Nx,Ny):\n",
    "        Mag = 0\n",
    "        for i in range(Nx):\n",
    "            for j in range(Ny):\n",
    "                Mag += lattice[i][j]\n",
    "        return Mag/(Nx*Ny)\n",
    "                       \n",
    "    def mag2_per_spin(self,lattice,Nx,Ny):\n",
    "        Mag2 = 0\n",
    "        for i in range(Nx):\n",
    "            for j in range(Ny):\n",
    "                Mag2 += lattice[i][j]**2\n",
    "        return Mag2/(Nx*Ny)"
   ]
  },
  {
   "cell_type": "code",
   "execution_count": 3,
   "metadata": {
    "collapsed": false
   },
   "outputs": [],
   "source": [
    "model = Ising() #constructor"
   ]
  },
  {
   "cell_type": "markdown",
   "metadata": {},
   "source": [
    "Now run the main simulation using the class Ising( ). Allow for the system to achieve equilibrium after a given relaxation time then collect the statistics. The physical observables are obtained normalising dividing by the iterations to collect the statistics and by the total spin sites. \n",
    "\n",
    "Focus on the following:\n",
    "\n",
    "- magnetization per site (absolute value)   $|<M>|$\n",
    "- energy per site $E_{site}$\n",
    "- susceptibility $\\chi$\n",
    "- heat capacity at constant volume $C_V$"
   ]
  },
  {
   "cell_type": "code",
   "execution_count": 14,
   "metadata": {
    "collapsed": false
   },
   "outputs": [],
   "source": [
    "steps = 2000 #steps for equilibrium\n",
    "temp_steps = 40 #step size for increase in temperature [J/k]\n",
    "\n",
    "kT = np.linspace(1.0,4.0,temp_steps) #temperature values\n",
    "\n",
    "#arrays for future plotting\n",
    "magnetization = np.zeros(temp_steps) \n",
    "Energy = np.zeros(temp_steps)\n",
    "susceptibility = np.zeros(temp_steps)\n",
    "specific_heat = np.zeros(temp_steps)\n",
    "mag_square = np.zeros(temp_steps) \n",
    "e_square = np.zeros(temp_steps) \n",
    "\n",
    "for l in range(len(kT)):\n",
    "    temperature = kT[l]\n",
    "    \n",
    "    #initialise observables to zero\n",
    "    M = 0\n",
    "    E = 0\n",
    "    M_sq = 0\n",
    "    E_sq = 0\n",
    "    \n",
    "    #reset to random initial configuration\n",
    "    lattice = model.spin_config(N,N)  \n",
    "    \n",
    "    #set out to reach equilibrium\n",
    "    for t in range(steps):\n",
    "        model.metropolis(lattice, temperature,N,N)\n",
    "        \n",
    "    #collect statistics\n",
    "    stat_steps = int(steps/2) \n",
    "    for k in range(stat_steps):  \n",
    "        \n",
    "        model.metropolis(lattice, temperature,N,N) \n",
    "\n",
    "        mag = model.mag_per_spin(lattice,N,N)\n",
    "        mag2 = model.mag2_per_spin(lattice,N,N)\n",
    "        engy = model.energy(lattice,N,N)\n",
    "        engy2 = model.energy2(lattice,N,N)\n",
    "        \n",
    "        M += mag\n",
    "        E += engy\n",
    "        M_sq += mag2\n",
    "        E_sq += engy2\n",
    "        \n",
    "    #observables, after equilibrium is achieved, normalised by sweeps\n",
    "    magnetization[l] = abs(M)/stat_steps \n",
    "    Energy[l] = E/stat_steps \n",
    "    mag_square[l] = M_sq/stat_steps\n",
    "    e_square[l] = E_sq/stat_steps\n",
    "    \n",
    "#perform manipulation directly on array instead of loop\n",
    "susceptibility = (mag_square - magnetization**2)/kT\n",
    "specific_heat = (e_square - Energy**2)/(kT**2)"
   ]
  },
  {
   "cell_type": "markdown",
   "metadata": {},
   "source": [
    "Plot the dependence of the physical observables as a function of temperature $[\\frac{J}{k_B}]$"
   ]
  },
  {
   "cell_type": "code",
   "execution_count": 15,
   "metadata": {
    "collapsed": false
   },
   "outputs": [
    {
     "data": {
      "image/png": "[encoded data removed]",
      "text/plain": [
       "<matplotlib.figure.Figure at 0x1056bc9d0>"
      ]
     },
     "metadata": {},
     "output_type": "display_data"
    }
   ],
   "source": [
    "plt.figure()\n",
    "plt.plot(kT, magnetization, 'kx')\n",
    "\n",
    "plt.rc('text', usetex=True)\n",
    "plt.rc('font', family='serif')\n",
    "\n",
    "plt.title(\"Average spin site magentization versus temperature\")\n",
    "plt.xlabel(\"$T$ $[J/k_B]$\")\n",
    "plt.ylabel(\"$|<M>|$ $[\\mu]$\")\n",
    "\n",
    "#see if theory matches results (Onsager, 1944)\n",
    "plt.axvline(2.269, color ='r',linestyle='dashed', label=\"$T_c^{theory} = 2.269$ $[J/k_B]$\")\n",
    "plt.legend()\n",
    "\n",
    "plt.grid()\n",
    "plt.savefig('av_mag_rand.eps')\n",
    "\n",
    "plt.show()\n"
   ]
  },
  {
   "cell_type": "code",
   "execution_count": 16,
   "metadata": {
    "collapsed": false
   },
   "outputs": [
    {
     "data": {
      "image/png": "[encoded data removed]",
      "text/plain": [
       "<matplotlib.figure.Figure at 0x105740810>"
      ]
     },
     "metadata": {},
     "output_type": "display_data"
    }
   ],
   "source": [
    "plt.figure()\n",
    "plt.plot(kT, Energy, 'kx')\n",
    "\n",
    "plt.rc('text', usetex=True)\n",
    "plt.rc('font', family='serif')\n",
    "\n",
    "plt.title(\"Average spin site energy versus temperature\")\n",
    "plt.xlabel(\"$T$ $[J/k_B]$\")\n",
    "plt.ylabel(\"$U$ $[J]$\")\n",
    "plt.grid()\n",
    "plt.savefig('av_erg_black_try.eps')\n",
    "\n",
    "plt.show()"
   ]
  },
  {
   "cell_type": "code",
   "execution_count": 17,
   "metadata": {
    "collapsed": false
   },
   "outputs": [
    {
     "data": {
      "image/png": "[encoded data removed]",
      "text/plain": [
       "<matplotlib.figure.Figure at 0x105c57090>"
      ]
     },
     "metadata": {},
     "output_type": "display_data"
    }
   ],
   "source": [
    "plt.figure()\n",
    "plt.plot(kT, susceptibility, 'kx')\n",
    "\n",
    "plt.rc('text', usetex=True)\n",
    "plt.rc('font', family='serif')\n",
    "\n",
    "plt.title(\"Average susceptibility versus temperature\")\n",
    "plt.xlabel(\"$T$ $J/k_B$\")\n",
    "plt.ylabel(\"$\\chi$ $[\\mu/ k_B]$\")\n",
    "\n",
    "#see if theory matches results (Onsager, 1944)\n",
    "plt.axvline(2.269, color ='r',linestyle='dashed', label=\"$T_c^{theory} = 2.269$ $[J/k_B]$\")\n",
    "plt.legend()\n",
    "\n",
    "plt.grid()\n",
    "plt.savefig('av_suscpt.eps')\n",
    "\n",
    "plt.show()"
   ]
  },
  {
   "cell_type": "code",
   "execution_count": 18,
   "metadata": {
    "collapsed": false,
    "scrolled": true
   },
   "outputs": [
    {
     "data": {
      "image/png": "[encoded data removed]",
      "text/plain": [
       "<matplotlib.figure.Figure at 0x105f0c590>"
      ]
     },
     "metadata": {},
     "output_type": "display_data"
    }
   ],
   "source": [
    "plt.figure()\n",
    "plt.plot(kT, specific_heat, 'kx')\n",
    "\n",
    "plt.rc('text', usetex=True)\n",
    "plt.rc('font', family='serif')\n",
    "\n",
    "plt.title(\"Average specific heat versus temperature\")\n",
    "plt.xlabel(\"$T$ $[J/k_B$]\")\n",
    "plt.ylabel(\"$C_V$ $[J/_B^2]$\")\n",
    "\n",
    "#see if theory matches results (Onsager, 1944)\n",
    "plt.axvline(2.269, color ='r',linestyle='dashed', label=\"$T_c^{theory} = 2.269$ $[J/k_B]$\")\n",
    "plt.legend()\n",
    "\n",
    "plt.grid()\n",
    "plt.savefig('av_C.eps')\n",
    "\n",
    "plt.show()"
   ]
  },
  {
   "cell_type": "code",
   "execution_count": 11,
   "metadata": {
    "collapsed": false
   },
   "outputs": [
    {
     "name": "stdout",
     "output_type": "stream",
     "text": [
      "Initial random spin configuration\n"
     ]
    },
    {
     "data": {
      "image/png": "[encoded data removed]",
      "text/plain": [
       "<matplotlib.figure.Figure at 0x105ef7b10>"
      ]
     },
     "metadata": {},
     "output_type": "display_data"
    },
    {
     "name": "stdout",
     "output_type": "stream",
     "text": [
      "Temperature = 0.300000\n"
     ]
    },
    {
     "data": {
      "image/png": "[encoded data removed]",
      "text/plain": [
       "<matplotlib.figure.Figure at 0x1052ea710>"
      ]
     },
     "metadata": {},
     "output_type": "display_data"
    },
    {
     "name": "stdout",
     "output_type": "stream",
     "text": [
      "Temperature = 1.000000\n"
     ]
    },
    {
     "data": {
      "image/png": "[encoded data removed]",
      "text/plain": [
       "<matplotlib.figure.Figure at 0x105fb64d0>"
      ]
     },
     "metadata": {},
     "output_type": "display_data"
    },
    {
     "name": "stdout",
     "output_type": "stream",
     "text": [
      "Temperature = 1.500000\n"
     ]
    },
    {
     "data": {
      "image/png": "[encoded data removed]",
      "text/plain": [
       "<matplotlib.figure.Figure at 0x105751e50>"
      ]
     },
     "metadata": {},
     "output_type": "display_data"
    },
    {
     "name": "stdout",
     "output_type": "stream",
     "text": [
      "Temperature = 2.000000\n"
     ]
    },
    {
     "data": {
      "image/png": "[encoded data removed]",
      "text/plain": [
       "<matplotlib.figure.Figure at 0x105540650>"
      ]
     },
     "metadata": {},
     "output_type": "display_data"
    },
    {
     "name": "stdout",
     "output_type": "stream",
     "text": [
      "Temperature = 2.269000\n"
     ]
    },
    {
     "data": {
      "image/png": "[encoded data removed]",
      "text/plain": [
       "<matplotlib.figure.Figure at 0x105cdbe50>"
      ]
     },
     "metadata": {},
     "output_type": "display_data"
    },
    {
     "name": "stdout",
     "output_type": "stream",
     "text": [
      "Temperature = 3.000000\n"
     ]
    },
    {
     "data": {
      "image/png": "[encoded data removed]",
      "text/plain": [
       "<matplotlib.figure.Figure at 0x10590df90>"
      ]
     },
     "metadata": {},
     "output_type": "display_data"
    },
    {
     "name": "stdout",
     "output_type": "stream",
     "text": [
      "Temperature = 3.500000\n"
     ]
    },
    {
     "data": {
      "image/png": "[encoded data removed]",
      "text/plain": [
       "<matplotlib.figure.Figure at 0x1051e7ed0>"
      ]
     },
     "metadata": {},
     "output_type": "display_data"
    },
    {
     "name": "stdout",
     "output_type": "stream",
     "text": [
      "Temperature = 4.000000\n"
     ]
    },
    {
     "data": {
      "image/png": "[encoded data removed]",
      "text/plain": [
       "<matplotlib.figure.Figure at 0x105fb4fd0>"
      ]
     },
     "metadata": {},
     "output_type": "display_data"
    }
   ],
   "source": [
    "#show change of regime \n",
    "\n",
    "J= 1.0\n",
    "N = 50\n",
    "T = [0.3,1.0,1.5,2.0, 2.269,3.0, 3.5, 4.0]  #showcase para/ferro-magnetic spin configuration\n",
    "\n",
    "\n",
    "print \"Initial random spin configuration\"\n",
    "lattice = model.spin_config(N,N)\n",
    "model.lattice_plt()\n",
    "for t in T:\n",
    "    for q in range(801):\n",
    "        \n",
    "        model.metropolis(lattice, t,N,N)\n",
    "        \n",
    "        if q == 800:\n",
    "            print \"Temperature = %f\" %t\n",
    "            model.lattice_plt()   "
   ]
  },
  {
   "cell_type": "code",
   "execution_count": null,
   "metadata": {
    "collapsed": true
   },
   "outputs": [],
   "source": []
  }
 ],
 "metadata": {
  "kernelspec": {
   "display_name": "Python 2",
   "language": "python",
   "name": "python2"
  },
  "language_info": {
   "codemirror_mode": {
    "name": "ipython",
    "version": 2
   },
   "file_extension": ".py",
   "mimetype": "text/x-python",
   "name": "python",
   "nbconvert_exporter": "python",
   "pygments_lexer": "ipython2",
   "version": "2.7.10"
  }
 },
 "nbformat": 4,
 "nbformat_minor": 0
}
