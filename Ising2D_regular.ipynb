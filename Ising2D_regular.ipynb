{
 "cells": [
  {
   "cell_type": "markdown",
   "metadata": {},
   "source": [
    "# The 2D Ising Model \n"
   ]
  },
  {
   "cell_type": "markdown",
   "metadata": {},
   "source": [
    "This is the IPython notebook compiled by me, Blaise Delaney (Junior Sophister Theoretical Physics), to tackle the tasks set by Dr. Thomas Archer for the course PY3C01, Trinity College, University of Dublin."
   ]
  },
  {
   "cell_type": "markdown",
   "metadata": {},
   "source": [
    "Firstly, we need to create a code cell to enable all the relevant imports. This shall be updated progressively to tacl the different sections of the problem set."
   ]
  },
  {
   "cell_type": "code",
   "execution_count": 1,
   "metadata": {
    "collapsed": false
   },
   "outputs": [],
   "source": [
    "from __future__ import division #necessary to perform division of ints effectively cast into floats before division\n",
    "\n",
    "import numpy as np\n",
    "import matplotlib.pyplot as plt\n",
    "import numpy.random as rand\n",
    "\n",
    "import IsingClass #module written to carry out the required calculations (metropolis, neighbours, energy, magnetization, etc.)\n",
    "\n",
    "#ipython, plot in notebook\n",
    "%matplotlib inline "
   ]
  },
  {
   "cell_type": "markdown",
   "metadata": {},
   "source": [
    "Now, onto the random spin configuration. This can be up or down, so we shall select a grid with the following conditions: \n",
    "\n",
    "- spin up $\\uparrow$ $=1$\n",
    "- spin down $\\downarrow$ $=-1$\n",
    "\n",
    "\n"
   ]
  },
  {
   "cell_type": "markdown",
   "metadata": {
    "collapsed": true
   },
   "source": [
    "It is probably a good idea to take a object-oriented approach. Define a class <span style=\"color: crimson\"> Ising() </span>."
   ]
  },
  {
   "cell_type": "code",
   "execution_count": 2,
   "metadata": {
    "collapsed": true
   },
   "outputs": [],
   "source": [
    "#Global parameters\n",
    "\n",
    "N = 16 #grid dimensions\n",
    "J = 1.0 #coupling in the hamiltonian"
   ]
  },
  {
   "cell_type": "markdown",
   "metadata": {},
   "source": [
    "The Hamiltonian is \n",
    "\n",
    "$$H = -J  \\sum_{<i,j>}  S_i \\cdot S_j - h \\sum_i S_i$$\n",
    "\n",
    "We want to investihate the behaviour of a <span style=\"color: crimson\"> ferromagnet </span>. That is, for $J > 0$, we expect an orderly spin lattice arrangement, disrupted for temperatures equal or greater than $T_c$, the Curie temperature. In this regime, we expect paramagnetism."
   ]
  },
  {
   "cell_type": "markdown",
   "metadata": {},
   "source": [
    "Energy computations: the energy (Hamiltonian, isolated system) at of a spin site $(h = 0)$ is given by eq. (1)\n",
    "\n",
    "$$ H_{i,j} = - J S_{i,j} \\cdot (\\sum_{nn} S)$$    \n",
    "\n",
    "the Hamiltonian associated with the spin-flipped state (single spin flip dynamics are assumed to allow for a transition from a state in to another) is simple eq. (2)\n",
    "\n",
    "$$H_{i,j} =  J S_{i,j} \\cdot (\\sum_{nn} S) $$\n",
    "\n",
    "Thus, given that $\\Delta E = (2) - (1)$\n",
    "\n",
    "$$\\Rightarrow \\Delta E = 2 J S_{i,j}\\cdot(\\sum_{nn} S)$$\n",
    "\n",
    "where is $\\Delta E < 0$, flipping the spin lowers the energy of the system. Metropolis-Hastings can be then applied.\n"
   ]
  },
  {
   "cell_type": "code",
   "execution_count": 3,
   "metadata": {
    "collapsed": false
   },
   "outputs": [],
   "source": [
    "model = IsingClass.Ising() #constructor"
   ]
  },
  {
   "cell_type": "markdown",
   "metadata": {},
   "source": [
    "Now run the main simulation using the class Ising( ). Allow for the system to achieve equilibrium after a given relaxation time then collect the statistics. The physical observables are obtained normalising dividing by the iterations to collect the statistics and by the total spin sites. \n",
    "\n",
    "Focus on the following:\n",
    "\n",
    "- magnetization per site (absolute value)   $|<M>|$\n",
    "- energy per site $E_{site}$\n",
    "- susceptibility $\\chi$\n",
    "- heat capacity at constant volume $C_V$"
   ]
  },
  {
   "cell_type": "code",
   "execution_count": 4,
   "metadata": {
    "collapsed": false
   },
   "outputs": [],
   "source": [
    "steps = 2000 #steps for equilibrium\n",
    "temp_steps = 40 #step size for increase in temperature [J/k]\n",
    "\n",
    "kT = np.linspace(1.0,4.0,temp_steps) #temperature values\n",
    "\n",
    "#arrays for future plotting\n",
    "magnetization = np.zeros(temp_steps) \n",
    "Energy = np.zeros(temp_steps)\n",
    "susceptibility = np.zeros(temp_steps)\n",
    "specific_heat = np.zeros(temp_steps)\n",
    "mag_square = np.zeros(temp_steps) \n",
    "e_square = np.zeros(temp_steps) \n",
    "\n",
    "for l in range(len(kT)):\n",
    "    temperature = kT[l]\n",
    "    \n",
    "    #initialise observables to zero\n",
    "    M = 0\n",
    "    E = 0\n",
    "    M_sq = 0\n",
    "    E_sq = 0\n",
    "    \n",
    "    #reset to random initial configuration\n",
    "    lattice = model.spin_config(N,N)  \n",
    "    \n",
    "    #set out to reach equilibrium\n",
    "    for t in range(steps):\n",
    "        model.metropolis(lattice, temperature,N,N,J)\n",
    "        \n",
    "    #collect statistics\n",
    "    stat_steps = int(steps/2) \n",
    "    for k in range(stat_steps):  \n",
    "        \n",
    "        model.metropolis(lattice, temperature,N,N,J) \n",
    "\n",
    "        mag = model.mag_per_spin(lattice,N,N)\n",
    "        mag2 = model.mag2_per_spin(lattice,N,N)\n",
    "        engy = model.energy(lattice,N,N,J)\n",
    "        engy2 = model.energy2(lattice,N,N,J)\n",
    "        \n",
    "        M += mag\n",
    "        E += engy\n",
    "        M_sq += mag2\n",
    "        E_sq += engy2\n",
    "        \n",
    "    #observables, after equilibrium is achieved, normalised by sweeps\n",
    "    magnetization[l] = abs(M)/stat_steps \n",
    "    Energy[l] = E/stat_steps \n",
    "    mag_square[l] = M_sq/stat_steps\n",
    "    e_square[l] = E_sq/stat_steps\n",
    "    \n",
    "#perform manipulation directly on array instead of loop\n",
    "susceptibility = (mag_square - magnetization**2)/kT\n",
    "specific_heat = (e_square - Energy**2)/(kT**2)"
   ]
  },
  {
   "cell_type": "markdown",
   "metadata": {},
   "source": [
    "Plot the dependence of the physical observables as a function of temperature $[\\frac{J}{k_B}]$"
   ]
  },
  {
   "cell_type": "code",
   "execution_count": 15,
   "metadata": {
    "collapsed": false
   },
   "outputs": [
    {
     "data": {
      "image/png": "[encoded data removed]",
      "text/plain": [
       "<matplotlib.figure.Figure at 0x1056bc9d0>"
      ]
     },
     "metadata": {},
     "output_type": "display_data"
    }
   ],
   "source": [
    "plt.figure()\n",
    "plt.plot(kT, magnetization, 'kx')\n",
    "\n",
    "plt.rc('text', usetex=True)\n",
    "plt.rc('font', family='serif')\n",
    "\n",
    "plt.title(\"Average spin site magentization versus temperature\")\n",
    "plt.xlabel(\"$T$ $[J/k_B]$\")\n",
    "plt.ylabel(\"$|<M>|$ $[\\mu]$\")\n",
    "\n",
    "#see if theory matches results (Onsager, 1944)\n",
    "plt.axvline(2.269, color ='r',linestyle='dashed', label=\"$T_c^{theory} = 2.269$ $[J/k_B]$\")\n",
    "plt.legend()\n",
    "\n",
    "plt.grid()\n",
    "plt.savefig('av_mag_rand.eps')\n",
    "\n",
    "plt.show()\n"
   ]
  },
  {
   "cell_type": "code",
   "execution_count": 16,
   "metadata": {
    "collapsed": false
   },
   "outputs": [
    {
     "data": {
      "image/png": "[encoded data removed]",
      "text/plain": [
       "<matplotlib.figure.Figure at 0x105740810>"
      ]
     },
     "metadata": {},
     "output_type": "display_data"
    }
   ],
   "source": [
    "plt.figure()\n",
    "plt.plot(kT, Energy, 'kx')\n",
    "\n",
    "plt.rc('text', usetex=True)\n",
    "plt.rc('font', family='serif')\n",
    "\n",
    "plt.title(\"Average spin site energy versus temperature\")\n",
    "plt.xlabel(\"$T$ $[J/k_B]$\")\n",
    "plt.ylabel(\"$U$ $[J]$\")\n",
    "plt.grid()\n",
    "plt.savefig('av_erg_black_try.eps')\n",
    "\n",
    "plt.show()"
   ]
  },
  {
   "cell_type": "code",
   "execution_count": 17,
   "metadata": {
    "collapsed": false
   },
   "outputs": [
    {
     "data": {
      "image/png": "[encoded data removed]",
      "text/plain": [
       "<matplotlib.figure.Figure at 0x105c57090>"
      ]
     },
     "metadata": {},
     "output_type": "display_data"
    }
   ],
   "source": [
    "plt.figure()\n",
    "plt.plot(kT, susceptibility, 'kx')\n",
    "\n",
    "plt.rc('text', usetex=True)\n",
    "plt.rc('font', family='serif')\n",
    "\n",
    "plt.title(\"Average susceptibility versus temperature\")\n",
    "plt.xlabel(\"$T$ $J/k_B$\")\n",
    "plt.ylabel(\"$\\chi$ $[\\mu/ k_B]$\")\n",
    "\n",
    "#see if theory matches results (Onsager, 1944)\n",
    "plt.axvline(2.269, color ='r',linestyle='dashed', label=\"$T_c^{theory} = 2.269$ $[J/k_B]$\")\n",
    "plt.legend()\n",
    "\n",
    "plt.grid()\n",
    "plt.savefig('av_suscpt.eps')\n",
    "\n",
    "plt.show()"
   ]
  },
  {
   "cell_type": "code",
   "execution_count": 18,
   "metadata": {
    "collapsed": false,
    "scrolled": true
   },
   "outputs": [
    {
     "data": {
      "image/png": "[encoded data removed]",
      "text/plain": [
       "<matplotlib.figure.Figure at 0x105f0c590>"
      ]
     },
     "metadata": {},
     "output_type": "display_data"
    }
   ],
   "source": [
    "plt.figure()\n",
    "plt.plot(kT, specific_heat, 'kx')\n",
    "\n",
    "plt.rc('text', usetex=True)\n",
    "plt.rc('font', family='serif')\n",
    "\n",
    "plt.title(\"Average specific heat versus temperature\")\n",
    "plt.xlabel(\"$T$ $[J/k_B$]\")\n",
    "plt.ylabel(\"$C_V$ $[J/_B^2]$\")\n",
    "\n",
    "#see if theory matches results (Onsager, 1944)\n",
    "plt.axvline(2.269, color ='r',linestyle='dashed', label=\"$T_c^{theory} = 2.269$ $[J/k_B]$\")\n",
    "plt.legend()\n",
    "\n",
    "plt.grid()\n",
    "plt.savefig('av_C.eps')\n",
    "\n",
    "plt.show()"
   ]
  },
  {
   "cell_type": "code",
   "execution_count": 5,
   "metadata": {
    "collapsed": false
   },
   "outputs": [
    {
     "name": "stdout",
     "output_type": "stream",
     "text": [
      "Initial random spin configuration\n"
     ]
    },
    {
     "data": {
      "image/png": "[encoded data removed]",
      "text/plain": [
       "<matplotlib.figure.Figure at 0x105373910>"
      ]
     },
     "metadata": {},
     "output_type": "display_data"
    },
    {
     "name": "stdout",
     "output_type": "stream",
     "text": [
      "Temperature = 0.300000\n"
     ]
    },
    {
     "data": {
      "image/png": "[encoded data removed]",
      "text/plain": [
       "<matplotlib.figure.Figure at 0x105560110>"
      ]
     },
     "metadata": {},
     "output_type": "display_data"
    },
    {
     "name": "stdout",
     "output_type": "stream",
     "text": [
      "Temperature = 1.000000\n"
     ]
    },
    {
     "data": {
      "image/png": "[encoded data removed]",
      "text/plain": [
       "<matplotlib.figure.Figure at 0x105753fd0>"
      ]
     },
     "metadata": {},
     "output_type": "display_data"
    },
    {
     "name": "stdout",
     "output_type": "stream",
     "text": [
      "Temperature = 1.500000\n"
     ]
    },
    {
     "data": {
      "image/png": "[encoded data removed]",
      "text/plain": [
       "<matplotlib.figure.Figure at 0x105839f10>"
      ]
     },
     "metadata": {},
     "output_type": "display_data"
    },
    {
     "name": "stdout",
     "output_type": "stream",
     "text": [
      "Temperature = 2.000000\n"
     ]
    },
    {
     "data": {
      "image/png": "[encoded data removed]",
      "text/plain": [
       "<matplotlib.figure.Figure at 0x105a23b50>"
      ]
     },
     "metadata": {},
     "output_type": "display_data"
    },
    {
     "name": "stdout",
     "output_type": "stream",
     "text": [
      "Temperature = 2.269000\n"
     ]
    },
    {
     "data": {
      "image/png": "[encoded data removed]",
      "text/plain": [
       "<matplotlib.figure.Figure at 0x105ae8410>"
      ]
     },
     "metadata": {},
     "output_type": "display_data"
    },
    {
     "name": "stdout",
     "output_type": "stream",
     "text": [
      "Temperature = 3.000000\n"
     ]
    },
    {
     "data": {
      "image/png": "[encoded data removed]",
      "text/plain": [
       "<matplotlib.figure.Figure at 0x105e14b90>"
      ]
     },
     "metadata": {},
     "output_type": "display_data"
    },
    {
     "name": "stdout",
     "output_type": "stream",
     "text": [
      "Temperature = 3.500000\n"
     ]
    },
    {
     "data": {
      "image/png": "[encoded data removed]",
      "text/plain": [
       "<matplotlib.figure.Figure at 0x105ed7450>"
      ]
     },
     "metadata": {},
     "output_type": "display_data"
    },
    {
     "name": "stdout",
     "output_type": "stream",
     "text": [
      "Temperature = 4.000000\n"
     ]
    },
    {
     "data": {
      "image/png": "[encoded data removed]",
      "text/plain": [
       "<matplotlib.figure.Figure at 0x1061dbbd0>"
      ]
     },
     "metadata": {},
     "output_type": "display_data"
    }
   ],
   "source": [
    "#show change of regime \n",
    "\n",
    "J= 1.0\n",
    "N = 50\n",
    "T = [0.3,1.0,1.5,2.0, 2.269,3.0, 3.5, 4.0]  #showcase para/ferro-magnetic spin configuration\n",
    "\n",
    "\n",
    "print \"Initial random spin configuration\"\n",
    "lattice = model.spin_config(N,N)\n",
    "model.lattice_plt(lattice)\n",
    "for t in T:\n",
    "    for q in range(801):\n",
    "        \n",
    "        model.metropolis(lattice, t,N,N,J)\n",
    "        \n",
    "        if q == 800:\n",
    "            print \"Temperature = %f\" %t\n",
    "            model.lattice_plt(lattice)   "
   ]
  },
  {
   "cell_type": "code",
   "execution_count": null,
   "metadata": {
    "collapsed": true
   },
   "outputs": [],
   "source": []
  }
 ],
 "metadata": {
  "kernelspec": {
   "display_name": "Python 2",
   "language": "python",
   "name": "python2"
  },
  "language_info": {
   "codemirror_mode": {
    "name": "ipython",
    "version": 2
   },
   "file_extension": ".py",
   "mimetype": "text/x-python",
   "name": "python",
   "nbconvert_exporter": "python",
   "pygments_lexer": "ipython2",
   "version": "2.7.10"
  }
 },
 "nbformat": 4,
 "nbformat_minor": 0
}
